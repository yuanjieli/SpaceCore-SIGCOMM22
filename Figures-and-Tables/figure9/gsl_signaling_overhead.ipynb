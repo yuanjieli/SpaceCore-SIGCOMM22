{
 "cells": [
  {
   "cell_type": "code",
   "execution_count": 1,
   "id": "930a233d-0590-41f8-99ed-974f425f90ed",
   "metadata": {},
   "outputs": [],
   "source": [
    "import numpy as np \n",
    "import math\n",
    "import pandas as pd\n",
    "import matplotlib.pyplot as plt\n",
    "import matplotlib\n",
    "import seaborn as sns\n",
    "import csv\n",
    "import math\n",
    "from matplotlib.patches import Rectangle"
   ]
  },
  {
   "cell_type": "code",
   "execution_count": 4,
   "id": "e666df04-9b17-4d54-8ded-c15d39fc19c5",
   "metadata": {},
   "outputs": [],
   "source": [
    "constellations=[\"starlink\",\"kuiper\",\"oneweb\",\"iridium\"]\n",
    "policy=\"P_OPT\"\n",
    "# gs_type = \"single\"\n",
    "label = \"distributed\"\n",
    "single_upbound=[2000,10000,20000,30000]\n",
    "result={}\n",
    "name_s=['a','b','c','d']\n",
    "path=\"data/\""
   ]
  },
  {
   "cell_type": "code",
   "execution_count": 5,
   "id": "a2c77790-2bfe-4d07-abd2-162abcd851ec",
   "metadata": {},
   "outputs": [
    {
     "name": "stdout",
     "output_type": "stream",
     "text": [
      "(10000,)\n"
     ]
    }
   ],
   "source": [
    "#Pairing of UE and gs\n",
    "distributed_file=\"data/pairs.npy\"\n",
    "pair=np.array(np.load(distributed_file,allow_pickle=True))\n",
    "print(np.shape(pair))"
   ]
  },
  {
   "cell_type": "code",
   "execution_count": 6,
   "id": "e6fc5aa7-d756-46db-a205-4e3a1611f9ae",
   "metadata": {},
   "outputs": [
    {
     "name": "stderr",
     "output_type": "stream",
     "text": [
      "C:\\Users\\DELL\\AppData\\Roaming\\Python\\Python36\\site-packages\\numpy\\core\\_asarray.py:83: VisibleDeprecationWarning: Creating an ndarray from ragged nested sequences (which is a list-or-tuple of lists-or-tuples-or ndarrays with different lengths or shapes) is deprecated. If you meant to do this, you must specify 'dtype=object' when creating the ndarray\n",
      "  return array(a, dtype, copy=False, order=order)\n"
     ]
    },
    {
     "name": "stdout",
     "output_type": "stream",
     "text": [
      "(99,)\n",
      "(99,)\n",
      "(99,)\n",
      "(99,)\n"
     ]
    }
   ],
   "source": [
    "cycle=100\n",
    "def cal_handover():\n",
    "    r=[]\n",
    "    for t in range(1,cycle):\n",
    "        r_in=[]\n",
    "        for i in range(len(ue_access)):\n",
    "            if ue_access[i][t-1] != ue_access[i][t]:\n",
    "                r_in.append(i)\n",
    "        r.append(r_in)\n",
    "    return r\n",
    "handover_result={}\n",
    "for constellation in constellations:\n",
    "    path=\"data/\"\n",
    "    if constellation==\"starlink\":\n",
    "        path+=\"starlink_72_22/\"\n",
    "    elif constellation==\"kuiper\":\n",
    "        path+=\"kuiper/\"\n",
    "    elif constellation==\"oneweb\":\n",
    "        path+=\"OneWeb-1week/\"\n",
    "    elif constellation==\"iridium\":\n",
    "        path+=\"Iridium_1week/\"\n",
    "    ue_access_file=path+constellation+\"_ue_access_\"+policy+\".npy\"\n",
    "    ue_access=np.array(np.load(ue_access_file,allow_pickle=True))\n",
    "    ho=cal_handover()\n",
    "    print(np.shape(ho))\n",
    "    handover_result[constellation]=ho"
   ]
  },
  {
   "cell_type": "code",
   "execution_count": 7,
   "id": "53e63da2-463c-4fbc-be59-0da2aec58cd1",
   "metadata": {},
   "outputs": [
    {
     "name": "stdout",
     "output_type": "stream",
     "text": [
      "(4, 4, 99, 39)\n",
      "(4, 4, 99, 39)\n",
      "(4, 4, 99, 39)\n",
      "(4, 4, 99, 39)\n"
     ]
    }
   ],
   "source": [
    "#mobility signaling number\n",
    "pdu_gsl=[[3,40],[8,90],[0,0],[0,0]]#[signaling num, state num]\n",
    "mobility_gsl=[[[2,17],[4,39],[5,7],[0,0]],[[1,0],[2,2],[1,1],[0,0]]]\n",
    "gsl_mobility_signaling={}\n",
    "for constellation in constellations:\n",
    "    path=\"data/\"\n",
    "    if constellation==\"starlink\":\n",
    "        path+=\"starlink_72_22/\"\n",
    "    elif constellation==\"kuiper\":\n",
    "        path+=\"kuiper/\"\n",
    "    elif constellation==\"oneweb\":\n",
    "        path+=\"OneWeb-1week/\"\n",
    "    elif constellation==\"iridium\":\n",
    "        path+=\"Iridium_1week/\"\n",
    "    ue_access_file=path+constellation+\"_ue_access_\"+policy+\".npy\"\n",
    "    ue_access=np.array(np.load(ue_access_file,allow_pickle=True))\n",
    "    bound_signaling=[]\n",
    "    for b_index in range(len(single_upbound)):    \n",
    "        ratio_file=\"data/processed_data/\"+constellation+\"_per_user_ratio\"+str(single_upbound[b_index])+\".npy\"\n",
    "        ratio=np.array(np.load(ratio_file,allow_pickle=True))\n",
    "        s_signaling=[]\n",
    "        for s_index in range(4):\n",
    "            time_signaling=[]\n",
    "            for c in range(len(handover_result[constellation])):\n",
    "                gs_signaling=[0.0]*39 # 39 ground stations\n",
    "                for user in handover_result[constellation][c]:\n",
    "                    cur_sat=ue_access[user][c]-1\n",
    "                    cur_gs=pair[user]\n",
    "                    r=ratio[c][cur_sat]\n",
    "                    gs_signaling[cur_gs]+=(r*(mobility_gsl[0][s_index][0]+mobility_gsl[1][s_index][0]))\n",
    "                time_signaling.append(gs_signaling)\n",
    "            s_signaling.append(time_signaling)\n",
    "        bound_signaling.append(s_signaling)\n",
    "    print(np.shape(bound_signaling))\n",
    "    gsl_mobility_signaling[constellation]=bound_signaling\n",
    "    "
   ]
  },
  {
   "cell_type": "code",
   "execution_count": 8,
   "id": "eb9f24a9-fec8-471a-ac1c-7aa1de6669e0",
   "metadata": {},
   "outputs": [
    {
     "name": "stdout",
     "output_type": "stream",
     "text": [
      "(4, 4, 99, 39)\n",
      "(4, 4, 99, 39)\n",
      "(4, 4, 99, 39)\n",
      "(4, 4, 99, 39)\n"
     ]
    }
   ],
   "source": [
    "#pdu session signaling data\n",
    "pdu_gsl=[[3,40],[8,90],[0,0],[0,0]]\n",
    "mobility_gsl=[[[2,17],[4,39],[5,7],[0,0]],[[1,0],[2,2],[1,1],[0,0]]]\n",
    "gsl_session_signaling={}\n",
    "for constellation in constellations:\n",
    "    path=\"data/\"\n",
    "    if constellation==\"starlink\":\n",
    "        path+=\"starlink_72_22/\"\n",
    "    elif constellation==\"kuiper\":\n",
    "        path+=\"kuiper/\"\n",
    "    elif constellation==\"oneweb\":\n",
    "        path+=\"OneWeb-1week/\"\n",
    "    elif constellation==\"iridium\":\n",
    "        path+=\"Iridium_1week/\"\n",
    "    ue_access_file=path+constellation+\"_ue_access_\"+policy+\".npy\"\n",
    "    ue_access=np.array(np.load(ue_access_file,allow_pickle=True))\n",
    "    bound_signaling=[]\n",
    "    for b_index in range(len(single_upbound)):    \n",
    "        ratio_file=\"../../Dataset/processed_data/\"+constellation+\"_per_user_ratio\"+str(single_upbound[b_index])+\".npy\"\n",
    "        ratio=np.array(np.load(ratio_file,allow_pickle=True))\n",
    "        s_signaling=[]\n",
    "        for s_index in range(4):\n",
    "            time_signaling=[]\n",
    "            for c in range(len(handover_result[constellation])):\n",
    "                gs_signaling=[0.0]*39\n",
    "                if c%2==0:\n",
    "                    for user in range(len(ue_access)):\n",
    "                        cur_sat=ue_access[user][c]-1\n",
    "                        cur_gs=pair[user]\n",
    "                        r=ratio[c+1][cur_sat]\n",
    "                        gs_signaling[cur_gs]+=(r*pdu_gsl[s_index][0])\n",
    "                time_signaling.append(gs_signaling)\n",
    "            s_signaling.append(time_signaling)\n",
    "        bound_signaling.append(s_signaling)\n",
    "    print(np.shape(bound_signaling))\n",
    "    gsl_session_signaling[constellation]=bound_signaling"
   ]
  },
  {
   "cell_type": "code",
   "execution_count": 10,
   "id": "6099057f-7139-4ecf-b619-2d9fecee884a",
   "metadata": {},
   "outputs": [],
   "source": [
    "np.save(\"data/gsl_mobility_signaling.npy\",gsl_mobility_signaling)"
   ]
  },
  {
   "cell_type": "code",
   "execution_count": 11,
   "id": "47dc7ee0-c65b-4222-881c-ca209906ec2b",
   "metadata": {},
   "outputs": [],
   "source": [
    "np.save(\"data/gsl_session_signaling.npy\",gsl_session_signaling)"
   ]
  }
 ],
 "metadata": {
  "kernelspec": {
   "display_name": "Python 3",
   "language": "python",
   "name": "python3"
  },
  "language_info": {
   "codemirror_mode": {
    "name": "ipython",
    "version": 3
   },
   "file_extension": ".py",
   "mimetype": "text/x-python",
   "name": "python",
   "nbconvert_exporter": "python",
   "pygments_lexer": "ipython3",
   "version": "3.6.5"
  }
 },
 "nbformat": 4,
 "nbformat_minor": 5
}
