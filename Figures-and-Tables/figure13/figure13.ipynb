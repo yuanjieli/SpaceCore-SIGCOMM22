{
 "cells": [
  {
   "cell_type": "code",
   "execution_count": 1,
   "metadata": {},
   "outputs": [],
   "source": [
    "import csv\n",
    "import numpy as np\n",
    "import numpy as np \n",
    "import math\n",
    "import pandas as pd\n",
    "import matplotlib.pyplot as plt\n",
    "import datetime"
   ]
  },
  {
   "cell_type": "markdown",
   "metadata": {},
   "source": [
    "# figure 13a"
   ]
  },
  {
   "cell_type": "code",
   "execution_count": 2,
   "metadata": {},
   "outputs": [],
   "source": [
    "file=\"data/satcat_starlink.csv\"\n",
    "break_num=[0]*24#2020.2-2022.1\n",
    "with open(file) as f:\n",
    "    f_csv=csv.reader(f)\n",
    "    headers=next(f_csv)\n",
    "    for row in f_csv:\n",
    "        data=row[3]\n",
    "        y,m,_=data.split(\"/\")\n",
    "        if(y==\"2020\"):\n",
    "            break_num[int(m)-2]+=1\n",
    "        elif y==\"2021\":\n",
    "            break_num[10+int(m)]+=1\n",
    "        elif y==\"2022\":\n",
    "            break_num[-1]+=1\n",
    "        else:\n",
    "            print(y)"
   ]
  },
  {
   "cell_type": "code",
   "execution_count": 3,
   "metadata": {},
   "outputs": [
    {
     "name": "stdout",
     "output_type": "stream",
     "text": [
      "[2, 2, 3, 5, 5, 6, 13, 41, 54, 58, 61, 62, 62, 66, 70, 72, 78, 87, 99, 111, 123, 133, 151, 161]\n"
     ]
    }
   ],
   "source": [
    "sum_num=[]\n",
    "for i in range(len(break_num)):\n",
    "    sum_num.append(np.sum(break_num[:i+1]))\n",
    "print(sum_num)"
   ]
  },
  {
   "cell_type": "code",
   "execution_count": 4,
   "metadata": {},
   "outputs": [
    {
     "data": {
      "image/png": "[encoded data removed]",
      "text/plain": [
       "<Figure size 288x180 with 2 Axes>"
      ]
     },
     "metadata": {
      "needs_background": "light"
     },
     "output_type": "display_data"
    }
   ],
   "source": [
    "#final version:with different y axis\n",
    "color=[\"#00A491\",\"#F6C845\",\"#FF592D\",\"#489DBC\"]\n",
    "fig=plt.figure(figsize=(4,2.5))\n",
    "location=range(24)\n",
    "width=0.8\n",
    "ax = fig.add_subplot(111)\n",
    "ax.bar(location,break_num,width=width,color=color[0],label=\"Additions\")\n",
    "ax.set_ylim([0,40])\n",
    "ax2 = ax.twinx()\n",
    "ax2.plot(location,sum_num,lw=2,label=\"Accumulations\",color=color[1])\n",
    "plt.xlim([-1,24])\n",
    "ax2.set_ylim([0,200])\n",
    "\n",
    "ax.legend(loc=\"upper left\")\n",
    "ax2.legend(loc=\"upper right\")\n",
    "ax.set_ylabel(\"Num. of decayed satellite\",fontsize=12)\n",
    "ax.set_xticks([0,4,8,12,16,20])\n",
    "ax.set_xticklabels([\"2020-2\",\"2020-6\",\"2020-10\",\"2021-2\",\"2021-6\",\"2021-10\"],rotation=40)\n",
    "plt.savefig(\"figure13a.pdf\",bbox_inches='tight')\n",
    "# plt.savefig(\"figure13a.png\",bbox_inches='tight')\n"
   ]
  },
  {
   "cell_type": "markdown",
   "metadata": {},
   "source": [
    "# figure 13b"
   ]
  },
  {
   "cell_type": "code",
   "execution_count": 5,
   "metadata": {},
   "outputs": [
    {
     "name": "stdout",
     "output_type": "stream",
     "text": [
      "filename: data/ping-20s-300-no-l1.txt crc error rate:  0.005522905898180273\n"
     ]
    }
   ],
   "source": [
    "# We search the following strings to determine total blocks and CRC error bloacks: `RBID` and `ERROR`.\n",
    "if __name__ == '__main__':\n",
    "    filenames = [\n",
    "        'data/ping-20s-300-no-l1.txt',\n",
    "    ]\n",
    "    graph_data = []\n",
    "    for filename in filenames:\n",
    "        \n",
    "        with open(filename) as f:\n",
    "            lines = f.readlines()\n",
    "            timestamps = []\n",
    "            has_error = []\n",
    "            total_error = 0\n",
    "            total_dl_cnt = 0\n",
    "            for line in lines:\n",
    "                has_error.append(line.find('ERROR') != -1)\n",
    "                total_error += (has_error[-1] == True)\n",
    "                if line.find('RBID') != -1:\n",
    "                    total_dl_cnt += 1\n",
    "            print('filename:', filename, 'crc error rate: ', total_error / total_dl_cnt)\n",
    "        with open(filename) as f:\n",
    "            lines = f.readlines()\n",
    "            current_total, current_bit_error = 0, 0\n",
    "            current_time_secs = 0\n",
    "            global_start_time = None   \n",
    "            window = 10\n",
    "            current_start_time = None\n",
    "            error_rates = []\n",
    "\n",
    "            for line in lines:\n",
    "                ts_str = line[1: line.find(']')]\n",
    "                ts = None\n",
    "                try:\n",
    "                    ts = datetime.datetime.strptime(ts_str, '%Y-%m-%d %H:%M:%S.%f')\n",
    "                except:\n",
    "                    try:\n",
    "                        ts = datetime.datetime.strptime(ts_str, '%Y-%m-%d %H:%M:%S')\n",
    "                    except:\n",
    "                        pass\n",
    "                if current_start_time is None and ts is not None:\n",
    "                    current_start_time = ts\n",
    "                    global_start_time = ts\n",
    "                if ts is not None:\n",
    "                    current_time_secs = (ts - current_start_time).total_seconds()\n",
    "                if current_time_secs > window:\n",
    "                    if current_total != 0:\n",
    "                        error_rates.append({\n",
    "                            'time': (ts - global_start_time).total_seconds(),\n",
    "                            'error_rate': current_bit_error / current_total\n",
    "                        })\n",
    "                    current_time_secs, current_total, current_bit_error = 0, 0, 0\n",
    "                    current_start_time = ts\n",
    "                if line.find('RBID') != -1:\n",
    "                    current_total += 1\n",
    "                if line.find('ERROR') != -1:\n",
    "                    current_bit_error += 1\n",
    "            graph_data.append(error_rates)\n",
    "    for i, error_rates in enumerate(graph_data): \n",
    "        times = [item['time'] for item in error_rates]\n",
    "        rates = [item['error_rate'] for item in error_rates]\n",
    "        # print(len(rates))\n",
    "        # print(rates)\n",
    "\n"
   ]
  },
  {
   "cell_type": "code",
   "execution_count": 6,
   "metadata": {},
   "outputs": [
    {
     "data": {
      "image/png": "[encoded data removed]",
      "text/plain": [
       "<Figure size 288x180 with 1 Axes>"
      ]
     },
     "metadata": {
      "needs_background": "light"
     },
     "output_type": "display_data"
    }
   ],
   "source": [
    "import numpy as np\n",
    "import matplotlib.pyplot as plt\n",
    "\n",
    "fig=plt.figure(figsize=(4,2.5))\n",
    "x=range(95)\n",
    "name_s=[\"Radio/session only\",\"6b\",\"Session & mobility\",\"All functions\"]\n",
    "ls=[\"-\",\"--\",\"-\",\"--\"]\n",
    "color=[\"#00A491\",\"#F6C845\",\"#FF592D\",\"#278BB0\"]\n",
    "\n",
    "for i in range(5):\n",
    "    rates.append(0)\n",
    "x=range(len(rates))\n",
    "plt.ylim(0, 5)\n",
    "plt.xlim(0, 120)\n",
    "plt.plot([item *100 for item in rates],color=color[0],lw=1.5)\n",
    "my_x_ticks = np.arange(0, 150, 30)\n",
    "xLim= [0,300,600,900,1200]\n",
    "plt.xticks(my_x_ticks,xLim)\n",
    "plt.xlabel(\"Time (s)\",fontsize=12)\n",
    "plt.ylabel(\"Frame error rate (%)\",fontsize=12)\n",
    "plt.savefig(\"figure13b.pdf\",bbox_inches='tight')\n",
    "# plt.savefig(\"figure13b.png\",bbox_inches='tight')\n",
    "plt.show()"
   ]
  },
  {
   "cell_type": "code",
   "execution_count": null,
   "metadata": {},
   "outputs": [],
   "source": []
  }
 ],
 "metadata": {
  "interpreter": {
   "hash": "38cca0c38332a56087b24af0bc80247f4fced29cb4f7f437d91dc159adec9c4e"
  },
  "kernelspec": {
   "display_name": "Python 3.8.8 ('base')",
   "language": "python",
   "name": "python3"
  },
  "language_info": {
   "codemirror_mode": {
    "name": "ipython",
    "version": 3
   },
   "file_extension": ".py",
   "mimetype": "text/x-python",
   "name": "python",
   "nbconvert_exporter": "python",
   "pygments_lexer": "ipython3",
   "version": "3.8.8"
  }
 },
 "nbformat": 4,
 "nbformat_minor": 2
}
