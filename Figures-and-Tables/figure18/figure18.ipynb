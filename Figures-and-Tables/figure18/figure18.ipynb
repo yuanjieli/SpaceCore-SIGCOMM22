{
 "cells": [
  {
   "cell_type": "code",
   "execution_count": 1,
   "metadata": {},
   "outputs": [],
   "source": [
    "with open(\"data/abe-len-100.txt\") as f:\n",
    "    lines=f.readlines()\n",
    "encry1=[]\n",
    "decry1=[]\n",
    "for line in lines:\n",
    "    if \"encrypt Time\" in line:\n",
    "        encry1.append(float(line.split()[-1][:-2]))\n",
    "    if \"decrypt\" in line:\n",
    "        decry1.append(float(line.split()[-1][:-2]))\n"
   ]
  },
  {
   "cell_type": "code",
   "execution_count": 2,
   "metadata": {},
   "outputs": [
    {
     "data": {
      "image/png": "[encoded data removed]",
      "text/plain": [
       "<Figure size 720x180 with 1 Axes>"
      ]
     },
     "metadata": {
      "needs_background": "light"
     },
     "output_type": "display_data"
    }
   ],
   "source": [
    "# -*- coding: utf-8 -*-\n",
    "import matplotlib.pyplot as plt\n",
    "from matplotlib.pyplot import MultipleLocator\n",
    "\n",
    " \n",
    "font2 = {'family' : 'Arial',\n",
    "'weight' : 'normal',\n",
    "'size'   : 17,\n",
    "}\n",
    "font1 = {'family' : 'Arial',\n",
    "'weight' : 'normal',\n",
    "'size'   : 20,\n",
    "}\n",
    "\n",
    "# name_list = ['Monday','Tuesday','Friday','Sunday']\n",
    "x =list(range(1,len(encry1[:10])+1))\n",
    "total_width, n = 0.8, 4\n",
    "width = total_width / n\n",
    "fig, ax = plt.subplots(figsize=(10,2.5))\n",
    "plt.ylim(0, 80)\n",
    "# plt.xlim(1, 10)\n",
    "plt.bar(x, encry1[:10], width=width, label='encryption',color=\"#00A491\")\n",
    "for i in range(len(x)):\n",
    "    x[i] = x[i] + width\n",
    "plt.bar(x, decry1[:10], width=width, label='decryption',color=\"#F6C845\")\n",
    "plt.tick_params(labelsize=16)\n",
    "y_major_locator=MultipleLocator(40)\n",
    "\n",
    "ax.yaxis.set_major_locator(y_major_locator)\n",
    "\n",
    "x_major_locator=MultipleLocator(1)\n",
    "\n",
    "ax.xaxis.set_major_locator(x_major_locator)\n",
    "\n",
    "# for i in range(len(x)):\n",
    "#     x[i] = x[i] + width\n",
    "# plt.bar(x, encry10[:10], width=width, label='encryption time(len=1000)',color=\"#FF592D\")\n",
    "# for i in range(len(x)):\n",
    "#     x[i] = x[i] + width\n",
    "# plt.bar(x, decry10[:10], width=width, label='decryption time(len=100)',color=\"#278BB0\")\n",
    "plt.xlabel(\"Number of attributes\",font1)\n",
    "plt.ylabel(\"Dealy(ms)\",font1)\n",
    "plt.legend(prop=font2)\n",
    "plt.tight_layout()\n",
    "plt.savefig(\"figure18.pdf\")\n",
    "plt.show()\n",
    "\n"
   ]
  },
  {
   "cell_type": "code",
   "execution_count": null,
   "metadata": {},
   "outputs": [],
   "source": []
  }
 ],
 "metadata": {
  "interpreter": {
   "hash": "38cca0c38332a56087b24af0bc80247f4fced29cb4f7f437d91dc159adec9c4e"
  },
  "kernelspec": {
   "display_name": "Python 3.8.8 64-bit ('base': conda)",
   "language": "python",
   "name": "python3"
  },
  "language_info": {
   "codemirror_mode": {
    "name": "ipython",
    "version": 3
   },
   "file_extension": ".py",
   "mimetype": "text/x-python",
   "name": "python",
   "nbconvert_exporter": "python",
   "pygments_lexer": "ipython3",
   "version": "3.8.8"
  },
  "orig_nbformat": 4
 },
 "nbformat": 4,
 "nbformat_minor": 2
}
