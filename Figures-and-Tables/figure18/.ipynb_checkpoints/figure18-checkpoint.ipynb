{
 "cells": [
  {
   "cell_type": "code",
   "execution_count": 1,
   "metadata": {},
   "outputs": [],
   "source": [
    "with open(\"data/abe-len-100.txt\") as f:\n",
    "    lines=f.readlines()\n",
    "encry1=[]\n",
    "decry1=[]\n",
    "for line in lines:\n",
    "    if \"encrypt Time\" in line:\n",
    "        encry1.append(float(line.split()[-1][:-2]))\n",
    "    if \"decrypt\" in line:\n",
    "        decry1.append(float(line.split()[-1][:-2]))\n"
   ]
  },
  {
   "cell_type": "code",
   "execution_count": 19,
   "metadata": {},
   "outputs": [
    {
     "data": {
      "image/png": "[encoded data removed]",
      "text/plain": [
       "<Figure size 360x216 with 1 Axes>"
      ]
     },
     "metadata": {
      "needs_background": "light"
     },
     "output_type": "display_data"
    }
   ],
   "source": [
    "# -*- coding: utf-8 -*-\n",
    "import matplotlib.pyplot as plt\n",
    "from matplotlib.pyplot import MultipleLocator\n",
    "\n",
    " \n",
    "font2 = {'family' : 'Arial',\n",
    "'weight' : 'normal',\n",
    "'size'   : 17,\n",
    "}\n",
    "font1 = {'family' : 'Arial',\n",
    "'weight' : 'normal',\n",
    "'size'   : 20,\n",
    "}\n",
    "x =list(range(2,len(encry1[:10])+1,2))\n",
    "total_width, n = 1.5, 4\n",
    "width = total_width / n\n",
    "fig, ax = plt.subplots(figsize=(5,3))\n",
    "plt.ylim(0, 80)\n",
    "plt.bar(x, encry1[1:10:2], width=width, label='encryption',color=\"#00A491\")\n",
    "for i in range(len(x)):\n",
    "    x[i] = x[i] + width\n",
    "plt.bar(x, decry1[1:10:2], width=width, label='decryption',color=\"#F6C845\")\n",
    "plt.tick_params(labelsize=16)\n",
    "y_major_locator=MultipleLocator(40)\n",
    "\n",
    "ax.yaxis.set_major_locator(y_major_locator)\n",
    "\n",
    "x_major_locator=MultipleLocator(2)\n",
    "\n",
    "ax.xaxis.set_major_locator(x_major_locator)\n",
    "\n",
    "plt.xlabel(\"Number of attributes\",font1)\n",
    "plt.ylabel(\"Dealy(ms)\",font1)\n",
    "plt.legend(prop=font2,loc=\"upper left\",bbox_to_anchor=(0,1),labelspacing=0.2,borderaxespad=0.1)\n",
    "plt.tight_layout()\n",
    "# plt.savefig(\"figure18.pdf\")\n",
    "plt.savefig(\"figure18.png\")\n",
    "plt.show()"
   ]
  },
  {
   "cell_type": "code",
   "execution_count": null,
   "metadata": {},
   "outputs": [],
   "source": []
  }
 ],
 "metadata": {
  "interpreter": {
   "hash": "38cca0c38332a56087b24af0bc80247f4fced29cb4f7f437d91dc159adec9c4e"
  },
  "kernelspec": {
   "display_name": "Python 3",
   "language": "python",
   "name": "python3"
  },
  "language_info": {
   "codemirror_mode": {
    "name": "ipython",
    "version": 3
   },
   "file_extension": ".py",
   "mimetype": "text/x-python",
   "name": "python",
   "nbconvert_exporter": "python",
   "pygments_lexer": "ipython3",
   "version": "3.6.5"
  }
 },
 "nbformat": 4,
 "nbformat_minor": 4
}
