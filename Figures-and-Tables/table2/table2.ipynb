{
 "cells": [
  {
   "cell_type": "code",
   "execution_count": null,
   "metadata": {},
   "outputs": [],
   "source": [
    "#conding=utf8  \n",
    "import os \n",
    "from datetime import datetime \n",
    "#mian data folder\n",
    "data_dir_explore_710=\"../../Dataset/satellite-terminal-data/explore-710/\"\n",
    "data_dir_sc310=\"../../Dataset/satellite-terminal-data/tiantong-sc310/\"\n",
    "data_dir_T900=\"../../Dataset/satellite-terminal-data/tiantong-T900/\""
   ]
  },
  {
   "cell_type": "code",
   "execution_count": 14,
   "metadata": {},
   "outputs": [
    {
     "name": "stdout",
     "output_type": "stream",
     "text": [
      "Explore 710 data lines:\n",
      "L1/L2: 33845\n",
      "RRC: 4484\n",
      "MM: 57264\n",
      "SM: 48458\n",
      "Total: 946860\n",
      "\n"
     ]
    }
   ],
   "source": [
    "g = os.walk(data_dir_explore_710)  \n",
    "all_lines=0\n",
    "sm_lines=0\n",
    "mm_lines=0\n",
    "rrc_lines=0\n",
    "l1_l2_lines=0\n",
    "for path,dir_list,file_list in g:  \n",
    "    for file_name in file_list:  \n",
    "        filepath=os.path.join(path, file_name)\n",
    "        if \"RM_diagnostic\" in filepath:\n",
    "            try:\n",
    "                with open(filepath) as f:\n",
    "                    lines=f.readlines()\n",
    "                    all_lines+=len(lines)\n",
    "                    for line in lines:\n",
    "                        if \"UMTS-SM\" in line:\n",
    "                            sm_lines+=1\n",
    "                        if \"UMTS-MM\" in line or \"UMTS-GMM\" in line:\n",
    "                            mm_lines+=1\n",
    "                        if \"IAI2:BCT\" in line or \"IAI2:BCN\" in line:\n",
    "                            rrc_lines+=1\n",
    "                        if \"SAT_SEARCH\" in line:\n",
    "                            l1_l2_lines+=1\n",
    "            except:\n",
    "                pass\n",
    "print(\"Explore 710 data lines:\")\n",
    "print(\"L1/L2: {}\\nRRC: {}\\nMM: {}\\nSM: {}\\nTotal: {}\\n\".format(l1_l2_lines,rrc_lines,mm_lines,sm_lines,all_lines))\n",
    "\n"
   ]
  },
  {
   "cell_type": "code",
   "execution_count": 12,
   "metadata": {},
   "outputs": [
    {
     "name": "stdout",
     "output_type": "stream",
     "text": [
      "Tiantong SC310 data lines:\n",
      "L1/L2: 1178327\n",
      "RRC: 9583\n",
      "MM: 46139\n",
      "SM: 4586\n",
      "Total: 2311663\n",
      "\n"
     ]
    }
   ],
   "source": [
    "g = os.walk(data_dir_sc310)  \n",
    "all_lines=0\n",
    "sm_lines=0\n",
    "mm_lines=0\n",
    "rrc_lines=0\n",
    "l1_l2_lines=0\n",
    "for path,dir_list,file_list in g:  \n",
    "    for file_name in file_list:  \n",
    "        filepath=os.path.join(path, file_name)\n",
    "        if \"data-plane\" not in filepath:\n",
    "            try:\n",
    "                with open(filepath) as f:\n",
    "                    lines=f.readlines()\n",
    "                    all_lines+=len(lines)\n",
    "                    for line in lines:\n",
    "                        temp=line.lower()\n",
    "                        if \"sm\" in temp and \"SMAC\" not in line and \"reasm\" not in temp:\n",
    "                            sm_lines+=1\n",
    "                        if \"mm\" in temp:\n",
    "                            mm_lines+=1\n",
    "                        if \"rrc\" in temp :\n",
    "                            rrc_lines+=1\n",
    "                        if \"l1\" in temp or \"SMAC\" in line:\n",
    "                            l1_l2_lines+=1\n",
    "            except:\n",
    "                pass\n",
    "print(\"Tiantong SC310 data lines:\")\n",
    "print(\"L1/L2: {}\\nRRC: {}\\nMM: {}\\nSM: {}\\nTotal: {}\\n\".format(l1_l2_lines,rrc_lines,mm_lines,sm_lines,all_lines))\n",
    "\n"
   ]
  },
  {
   "cell_type": "code",
   "execution_count": 13,
   "metadata": {},
   "outputs": [
    {
     "name": "stdout",
     "output_type": "stream",
     "text": [
      "Tiantong T900 data lines:\n",
      "L1/L2: 2759859\n",
      "RRC: 3020\n",
      "MM: 13556\n",
      "SM: 1670\n",
      "Total: 4885375\n",
      "\n"
     ]
    }
   ],
   "source": [
    "g = os.walk(data_dir_T900)  \n",
    "all_lines=0\n",
    "sm_lines=0\n",
    "mm_lines=0\n",
    "rrc_lines=0\n",
    "l1_l2_lines=0\n",
    "for path,dir_list,file_list in g:  \n",
    "    for file_name in file_list:  \n",
    "        filepath=os.path.join(path, file_name)\n",
    "        if \"data-plane\" not in filepath:\n",
    "            try:\n",
    "                with open(filepath) as f:\n",
    "                    lines=f.readlines()\n",
    "                    all_lines+=len(lines)\n",
    "                    for line in lines:\n",
    "                        temp=line.lower()\n",
    "                        if \"sm\" in temp and \"SMAC\" not in line and \"reasm\" not in temp:\n",
    "                            sm_lines+=1\n",
    "                        if \"mm\" in temp:\n",
    "                            mm_lines+=1\n",
    "                        if \"rrc\" in temp :\n",
    "                            rrc_lines+=1\n",
    "                        if \"l1\" in temp or \"SMAC\" in line:\n",
    "                            l1_l2_lines+=1\n",
    "            except:\n",
    "                pass\n",
    "print(\"Tiantong T900 data lines:\")\n",
    "print(\"L1/L2: {}\\nRRC: {}\\nMM: {}\\nSM: {}\\nTotal: {}\\n\".format(l1_l2_lines,rrc_lines,mm_lines,sm_lines,all_lines))\n",
    "\n"
   ]
  },
  {
   "cell_type": "code",
   "execution_count": null,
   "metadata": {},
   "outputs": [],
   "source": []
  }
 ],
 "metadata": {
  "interpreter": {
   "hash": "38cca0c38332a56087b24af0bc80247f4fced29cb4f7f437d91dc159adec9c4e"
  },
  "kernelspec": {
   "display_name": "Python 3.8.8 ('base')",
   "language": "python",
   "name": "python3"
  },
  "language_info": {
   "codemirror_mode": {
    "name": "ipython",
    "version": 3
   },
   "file_extension": ".py",
   "mimetype": "text/x-python",
   "name": "python",
   "nbconvert_exporter": "python",
   "pygments_lexer": "ipython3",
   "version": "3.8.8"
  },
  "orig_nbformat": 4
 },
 "nbformat": 4,
 "nbformat_minor": 2
}
