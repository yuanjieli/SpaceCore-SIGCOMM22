{
 "cells": [
  {
   "cell_type": "code",
   "execution_count": 1,
   "metadata": {},
   "outputs": [],
   "source": [
    "#conding=utf8  \n",
    "import os \n",
    "from datetime import datetime \n",
    "#mian data folder\n",
    "data_dir_explore_710=\"data/explore-710/\"\n",
    "data_dir_sc310=\"data/tiantong-sc310/\"\n",
    "data_dir_T900=\"data/tiantong-T900/\""
   ]
  },
  {
   "cell_type": "code",
   "execution_count": 2,
   "metadata": {},
   "outputs": [
    {
     "name": "stdout",
     "output_type": "stream",
     "text": [
      "Explore 710 data lines:\n",
      "L1/L2: 33845\n",
      "RRC: 4484\n",
      "MM: 57264\n",
      "SM: 48458\n",
      "Total: 946860\n",
      "\n"
     ]
    }
   ],
   "source": [
    "g = os.walk(data_dir_explore_710)  \n",
    "all_lines=0\n",
    "sm_lines=0\n",
    "mm_lines=0\n",
    "rrc_lines=0\n",
    "l1_l2_lines=0\n",
    "for path,dir_list,file_list in g:  \n",
    "    for file_name in file_list:  \n",
    "        filepath=os.path.join(path, file_name)\n",
    "        try:\n",
    "            with open(filepath) as f:\n",
    "                lines=f.readlines()\n",
    "                all_lines+=len(lines)\n",
    "                for line in lines:\n",
    "                    if \"Session management\" in line:\n",
    "                        sm_lines+=1\n",
    "                    if \"Mobility management\" in line:\n",
    "                        mm_lines+=1\n",
    "                    if \"RRC layer\" in line:\n",
    "                        rrc_lines+=1\n",
    "                    if \"L1/L2\" in line:\n",
    "                        l1_l2_lines+=1\n",
    "        except:\n",
    "            pass\n",
    "print(\"Explore 710 data lines:\")\n",
    "print(\"L1/L2: {}\\nRRC: {}\\nMM: {}\\nSM: {}\\nTotal: {}\\n\".format(l1_l2_lines,rrc_lines,mm_lines,sm_lines,all_lines))\n",
    "\n"
   ]
  },
  {
   "cell_type": "code",
   "execution_count": 3,
   "metadata": {},
   "outputs": [
    {
     "name": "stdout",
     "output_type": "stream",
     "text": [
      "Tiantong SC310 data lines:\n",
      "L1/L2: 1178327\n",
      "RRC: 9583\n",
      "MM: 46139\n",
      "SM: 4586\n",
      "Total: 2319848\n",
      "\n"
     ]
    }
   ],
   "source": [
    "g = os.walk(data_dir_sc310)  \n",
    "all_lines=0\n",
    "sm_lines=0\n",
    "mm_lines=0\n",
    "rrc_lines=0\n",
    "l1_l2_lines=0\n",
    "for path,dir_list,file_list in g:  \n",
    "    for file_name in file_list:  \n",
    "        filepath=os.path.join(path, file_name)\n",
    "        try:\n",
    "            with open(filepath) as f:\n",
    "                lines=f.readlines()\n",
    "                all_lines+=len(lines)\n",
    "                for line in lines:\n",
    "                    if \"Session management\" in line:\n",
    "                        sm_lines+=1\n",
    "                    if \"Mobility management\" in line:\n",
    "                        mm_lines+=1\n",
    "                    if \"RRC layer\" in line:\n",
    "                        rrc_lines+=1\n",
    "                    if \"L1/L2\" in line:\n",
    "                        l1_l2_lines+=1\n",
    "        except:\n",
    "            pass\n",
    "print(\"Tiantong SC310 data lines:\")\n",
    "print(\"L1/L2: {}\\nRRC: {}\\nMM: {}\\nSM: {}\\nTotal: {}\\n\".format(l1_l2_lines,rrc_lines,mm_lines,sm_lines,all_lines))\n",
    "\n"
   ]
  },
  {
   "cell_type": "code",
   "execution_count": 4,
   "metadata": {},
   "outputs": [
    {
     "name": "stdout",
     "output_type": "stream",
     "text": [
      "Tiantong T900 data lines:\n",
      "L1/L2: 2759859\n",
      "RRC: 3020\n",
      "MM: 13556\n",
      "SM: 1670\n",
      "Total: 4888079\n",
      "\n"
     ]
    }
   ],
   "source": [
    "g = os.walk(data_dir_T900)  \n",
    "all_lines=0\n",
    "sm_lines=0\n",
    "mm_lines=0\n",
    "rrc_lines=0\n",
    "l1_l2_lines=0\n",
    "for path,dir_list,file_list in g:  \n",
    "    for file_name in file_list:  \n",
    "        filepath=os.path.join(path, file_name)\n",
    "        try:\n",
    "            with open(filepath) as f:\n",
    "                lines=f.readlines()\n",
    "                all_lines+=len(lines)\n",
    "                for line in lines:\n",
    "                    if \"Session management\" in line:\n",
    "                        sm_lines+=1\n",
    "                    if \"Mobility management\" in line:\n",
    "                        mm_lines+=1\n",
    "                    if \"RRC layer\" in line:\n",
    "                        rrc_lines+=1\n",
    "                    if \"L1/L2\" in line:\n",
    "                        l1_l2_lines+=1\n",
    "        except:\n",
    "            pass\n",
    "print(\"Tiantong T900 data lines:\")\n",
    "print(\"L1/L2: {}\\nRRC: {}\\nMM: {}\\nSM: {}\\nTotal: {}\\n\".format(l1_l2_lines,rrc_lines,mm_lines,sm_lines,all_lines))\n",
    "\n"
   ]
  },
  {
   "cell_type": "code",
   "execution_count": null,
   "metadata": {},
   "outputs": [],
   "source": []
  }
 ],
 "metadata": {
  "interpreter": {
   "hash": "38cca0c38332a56087b24af0bc80247f4fced29cb4f7f437d91dc159adec9c4e"
  },
  "kernelspec": {
   "display_name": "Python 3.8.8 ('base')",
   "language": "python",
   "name": "python3"
  },
  "language_info": {
   "codemirror_mode": {
    "name": "ipython",
    "version": 3
   },
   "file_extension": ".py",
   "mimetype": "text/x-python",
   "name": "python",
   "nbconvert_exporter": "python",
   "pygments_lexer": "ipython3",
   "version": "3.8.8"
  },
  "orig_nbformat": 4
 },
 "nbformat": 4,
 "nbformat_minor": 2
}
