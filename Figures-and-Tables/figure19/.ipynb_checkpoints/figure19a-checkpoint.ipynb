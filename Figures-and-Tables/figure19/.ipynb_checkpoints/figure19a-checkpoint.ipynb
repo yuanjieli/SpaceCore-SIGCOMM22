{
 "cells": [
  {
   "cell_type": "code",
   "execution_count": 3,
   "metadata": {},
   "outputs": [],
   "source": [
    "import csv\n",
    "import numpy as np\n",
    "import numpy as np \n",
    "import math\n",
    "import pandas as pd\n",
    "import matplotlib.pyplot as plt"
   ]
  },
  {
   "cell_type": "code",
   "execution_count": 8,
   "metadata": {},
   "outputs": [],
   "source": [
    "path=\"data/starlink/\"\n",
    "\n",
    "R=6371\n",
    "lat=110.95\n",
    "long=111.314\n",
    "\n",
    "constellation=\"starlink\"\n",
    "cycle=100\n",
    "single_upbound=30000\n",
    "constellations=[\"starlink\",\"kuiper\",\"oneweb\",\"iridium\"]\n",
    "gs_type = \"distributed\"\n",
    "label = \"distributed\"\n",
    "\n",
    "# total_ue=7568902783\n",
    "# ratio=10000/total_ue\n",
    "\n",
    "policy=\"P_OPT\"  \n",
    "node_num=1584"
   ]
  },
  {
   "cell_type": "code",
   "execution_count": 9,
   "metadata": {},
   "outputs": [
    {
     "name": "stdout",
     "output_type": "stream",
     "text": [
      "<class 'numpy.int64'>\n",
      "(10000, 100)\n"
     ]
    }
   ],
   "source": [
    "ue_access_file=path+constellation+\"_ue_access_\"+policy+\".npy\"\n",
    "ue_access=np.array(np.load(ue_access_file,allow_pickle=True))\n",
    "print(type(ue_access[0][0]))\n",
    "print(np.shape(ue_access))"
   ]
  },
  {
   "cell_type": "code",
   "execution_count": 10,
   "metadata": {},
   "outputs": [
    {
     "name": "stdout",
     "output_type": "stream",
     "text": [
      "(10000, 99, 5)\n",
      "(10000, 99, 5)\n",
      "(10000, 99, 5)\n",
      "[31 1549 9.066617069914704 3 list([\"'31'\", \"'9'\", \"'1571'\", \"'1549'\"])]\n",
      "31\n"
     ]
    }
   ],
   "source": [
    "old_end_sp=np.array(np.load(path+gs_type+\"_\"+\"old-end\"+\"_SP_delay_hop.npy\",allow_pickle=True))  # ground的access sat\n",
    "print(np.shape(old_end_sp))\n",
    "old_new_sp=np.array(np.load(path+gs_type+\"_\"+\"old-new\"+\"_SP_delay_hop.npy\",allow_pickle=True))  # ground的access sat\n",
    "print(np.shape(old_new_sp))\n",
    "new_end_sp=np.array(np.load(path+gs_type+\"_\"+\"new-end\"+\"_SP_delay_hop.npy\",allow_pickle=True))  # ground的access sat\n",
    "broadcast=np.array(np.load(\"data/skycore_broadcast_SP_delay_hop.npy\",allow_pickle=True))\n",
    "print(np.shape(new_end_sp))\n",
    "print(new_end_sp[0][0])\n",
    "print(int(new_end_sp[0][0][0]))"
   ]
  },
  {
   "cell_type": "code",
   "execution_count": 11,
   "metadata": {},
   "outputs": [
    {
     "name": "stdout",
     "output_type": "stream",
     "text": [
      "(99,)\n",
      "[3873, 3945, 3975, 3995, 4007, 4092, 4120, 4155, 4220, 4250, 4322, 4406, 4867, 4878, 4893, 4903, 4966, 5043, 5049, 5062, 5066, 5077, 5098, 5705, 5707, 5732, 5735, 5743, 5751, 5801, 5817, 5864, 5866, 5917, 7440, 8313, 8330, 8363, 8565, 8579, 8583, 8597, 8653, 8667, 8668, 8674, 8684, 8687, 8688, 8693, 8700, 9174, 9222, 9378, 9383, 9413, 9475, 9481, 9485, 9490, 9499, 9500, 9649, 9776, 9874, 9875, 9876, 9877, 9880, 9881, 9882, 9902]\n"
     ]
    },
    {
     "name": "stderr",
     "output_type": "stream",
     "text": [
      "C:\\Users\\DELL\\AppData\\Roaming\\Python\\Python36\\site-packages\\numpy\\core\\_asarray.py:83: VisibleDeprecationWarning: Creating an ndarray from ragged nested sequences (which is a list-or-tuple of lists-or-tuples-or ndarrays with different lengths or shapes) is deprecated. If you meant to do this, you must specify 'dtype=object' when creating the ndarray\n",
      "  return array(a, dtype, copy=False, order=order)\n"
     ]
    }
   ],
   "source": [
    "def cal_handover():\n",
    "    r=[]\n",
    "    for t in range(1,cycle):\n",
    "        r_in=[]\n",
    "        for i in range( len(ue_access)):\n",
    "            if ue_access[i][t-1] != ue_access[i][t]:\n",
    "                r_in.append(i)\n",
    "        r.append(r_in)\n",
    "    return r\n",
    "ho=cal_handover()\n",
    "print(np.shape(ho))\n",
    "print(ho[0])"
   ]
  },
  {
   "cell_type": "code",
   "execution_count": 19,
   "metadata": {},
   "outputs": [
    {
     "name": "stdout",
     "output_type": "stream",
     "text": [
      "(100, 1584)\n"
     ]
    }
   ],
   "source": [
    "ratio=np.array(np.load(\"data/\"+constellation+\"_per_user_ratio\"+str(single_upbound)+\".npy\",allow_pickle=True))\n",
    "print(np.shape(ratio))"
   ]
  },
  {
   "cell_type": "code",
   "execution_count": 15,
   "metadata": {},
   "outputs": [
    {
     "name": "stdout",
     "output_type": "stream",
     "text": [
      "(100, 10000)\n"
     ]
    }
   ],
   "source": [
    "ratio_user=[]\n",
    "for mins in range(cycle):\n",
    "    user_t=[]\n",
    "    for user in range(len(ue_access)):\n",
    "        cur_sat=ue_access[user][mins]\n",
    "        r=ratio[mins][cur_sat-1]\n",
    "        user_t.append(r)\n",
    "    ratio_user.append(user_t)\n",
    "print(np.shape(ratio_user))\n",
    "        "
   ]
  },
  {
   "cell_type": "code",
   "execution_count": 16,
   "metadata": {},
   "outputs": [],
   "source": [
    "#5 solutions: spacecore ntn skycore dpcm tiansuan\n",
    "mobility_direct=[19+21+20,19,121+52+13+19+30+19+20,121+52+13+19,121+52+13+19]\n",
    "session_direct=[21+15,15,77+53+21+15,77+53+21+15,77+53+21+15]\n",
    "mobility_core=[[0,0],[17,0],[0,0],[7,1],[7,1]]\n",
    "mobility_inter=[1,23,16,1,111]\n",
    "session_core=[0,3,0,0,0]\n",
    "\n",
    "state_session=[]\n",
    "def cal_leakage(ho,s_index):\n",
    "    leakage=[]\n",
    "    for t in range(cycle):\n",
    "        tmp_leak=[0]*node_num\n",
    "        if leakage:\n",
    "            for i in range(len(tmp_leak)):\n",
    "                tmp_leak[i]+=leakage[-1][i]\n",
    "        for ue in range(len(ue_access)):\n",
    "            if t==0 or ue_access[ue][t]!=ue_access[ue][t-1]:\n",
    "                tmp_leak[ue_access[ue][t]-1]+=(ratio_user[t][ue]*mobility_direct[s_index])\n",
    "            if t%2==0:\n",
    "                tmp_leak[ue_access[ue][t]-1]+=(ratio_user[t][ue]*session_direct[s_index])\n",
    "                for sat in new_end_sp[ue][t][4][1:-1]:\n",
    "                    sat=int(sat.strip('\\''))-1\n",
    "                    tmp_leak[sat]+=(ratio_user[t][ue]*session_core[s_index])\n",
    "        if t==0:\n",
    "            continue\n",
    "        else:\n",
    "            tmp_t=t-1\n",
    "            for user in ho[tmp_t]:\n",
    "                for sat in new_end_sp[user][tmp_t][4][1:-1]:\n",
    "                    sat=int(sat.strip('\\''))-1\n",
    "                    tmp_leak[sat]+=(ratio_user[t][user]*mobility_core[s_index][0])\n",
    "                for sat in old_end_sp[user][tmp_t][4][1:-1]:\n",
    "                    sat=int(sat.strip('\\''))-1\n",
    "                    tmp_leak[sat]+=(ratio_user[t][user]*mobility_core[s_index][1])\n",
    "                for sat in old_new_sp[user][tmp_t][4][1:-1]:\n",
    "                    sat=int(sat.strip('\\''))-1\n",
    "                    tmp_leak[sat]+=(ratio_user[t][user]*mobility_inter[s_index])\n",
    "                if s_index==2:\n",
    "                    pass_sat=[]\n",
    "                    for sat_list in broadcast[user][tmp_t][4]:\n",
    "                        for sat in sat_list[1:]:\n",
    "                            sat=int(sat.strip('\\''))-1\n",
    "                            if sat not in pass_sat:\n",
    "                                tmp_leak[sat]+=(ratio_user[t][user]*96)\n",
    "                                pass_sat.append(sat)\n",
    "        leakage.append(tmp_leak)\n",
    "    return leakage\n",
    "    print(np.shape(leakage))\n",
    "name_s=['SpaceCore','NTN','SkyCore','DPCM','Tiansuan']\n",
    "starlink_leakage=[]\n",
    "for s_index in range(len(name_s)):\n",
    "    starlink_leakage.append(cal_leakage(ho,s_index))"
   ]
  },
  {
   "cell_type": "code",
   "execution_count": 18,
   "metadata": {},
   "outputs": [
    {
     "name": "stdout",
     "output_type": "stream",
     "text": [
      "(5, 99, 1584)\n"
     ]
    },
    {
     "data": {
      "image/png": "[encoded data removed]",
      "text/plain": [
       "<Figure size 360x144 with 1 Axes>"
      ]
     },
     "metadata": {
      "needs_background": "light"
     },
     "output_type": "display_data"
    }
   ],
   "source": [
    "print(np.shape(starlink_leakage))\n",
    "fig=plt.figure(figsize=(5,2))\n",
    "name_s=['SpaceCore','5G NTN','SkyCore','DPCM','Baoyun']\n",
    "color=[\"#00A491\",\"#F6C845\",\"#FF592D\",\"#489DBC\",\"#AE8CCD\"]\n",
    "ls=['-','--','-','-.','-']\n",
    "for s_index in range(len(name_s)):\n",
    "    tt=[]\n",
    "    for mins in range(len(starlink_leakage[s_index])):\n",
    "        tt.append(np.mean(starlink_leakage[s_index][mins]))\n",
    "    plt.plot(tt,label=name_s[s_index],ls=ls[s_index],color=color[s_index],lw=2)\n",
    "plt.ticklabel_format(style='sci', axis='y', scilimits=(0,0))\n",
    "plt.legend(title=\"Solutions\")\n",
    "plt.ylim([0,1e9])\n",
    "\n",
    "plt.ylabel(\"# of leakaged states\",fontsize=12)\n",
    "plt.text(43,8.9e8,\"Constellation:Starlink\",fontsize=12)\n",
    "plt.text(43,7.5e8,\"Capability:30K\",fontsize=12)\n",
    "plt.xlabel(\"Time(minutes)\",fontsize=13)\n",
    "plt.savefig(\"figure19a.pdf\",bbox_inches='tight')"
   ]
  },
  {
   "cell_type": "code",
   "execution_count": null,
   "metadata": {},
   "outputs": [],
   "source": []
  }
 ],
 "metadata": {
  "kernelspec": {
   "display_name": "Python 3",
   "language": "python",
   "name": "python3"
  },
  "language_info": {
   "codemirror_mode": {
    "name": "ipython",
    "version": 3
   },
   "file_extension": ".py",
   "mimetype": "text/x-python",
   "name": "python",
   "nbconvert_exporter": "python",
   "pygments_lexer": "ipython3",
   "version": "3.6.5"
  }
 },
 "nbformat": 4,
 "nbformat_minor": 4
}
