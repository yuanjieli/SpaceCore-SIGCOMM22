{
 "cells": [
  {
   "cell_type": "code",
   "execution_count": 2,
   "metadata": {},
   "outputs": [],
   "source": [
    "import matplotlib.pyplot as plt\n",
    "import numpy as np\n",
    "import statsmodels.api as sm\n",
    "import os \n",
    "from datetime import datetime "
   ]
  },
  {
   "cell_type": "code",
   "execution_count": 5,
   "metadata": {},
   "outputs": [
    {
     "name": "stdout",
     "output_type": "stream",
     "text": [
      "[Errno 2] No such file or directory: '../../Dataset/satellite-terminal-data/explore-710/1-14-2022/RM_diagnostic.html'\n",
      "[Errno 2] No such file or directory: '../../Dataset/satellite-terminal-data/explore-710/5-15-2021/RM_diagnostic.html'\n",
      "[Errno 2] No such file or directory: '../../Dataset/satellite-terminal-data/explore-710/6-13-2021/RM_diagnostic.html'\n",
      "[Errno 2] No such file or directory: '../../Dataset/satellite-terminal-data/explore-710/5-19-2021/RM_diagnostic.html'\n",
      "[Errno 2] No such file or directory: '../../Dataset/satellite-terminal-data/explore-710/6-11-2021/RM_diagnostic.html'\n",
      "[Errno 2] No such file or directory: '../../Dataset/satellite-terminal-data/explore-710/6-9-2021/RM_diagnostic.html'\n",
      "[Errno 2] No such file or directory: '../../Dataset/satellite-terminal-data/explore-710/1-8-2022/RM_diagnostic.html'\n"
     ]
    }
   ],
   "source": [
    "#mian data folder\n",
    "data_dir=\"../../Dataset/satellite-terminal-data/explore-710/\"\n",
    "g = os.walk(data_dir)  \n",
    "attach_delay=[]\n",
    "dirs=[]\n",
    "dirname=\"\"\n",
    "i=1\n",
    "for path,dir_list,file_list in g:  \n",
    "    for dir_name in dir_list:\n",
    "        filename=os.path.join(path, dir_name)+\"/RM_diagnostic.html\"\n",
    "        # print(filename)  \n",
    "        processed_data=[]\n",
    "        try:\n",
    "            with open(filename) as f:\n",
    "                lines=f.readlines()\n",
    "                \n",
    "                for line in lines:\n",
    "                    if \"sending attach request to GMM, domain CS:YES, PS:NO\" in line:\n",
    "                        send=datetime.strptime(line.split()[1],\"%H:%M:%S.%f\")\n",
    "                        sendline=line\n",
    "                    if \"UMTS-REG-ATT-CS: REG_ATTACH_PENDING\" in line:\n",
    "                        attached=datetime.strptime(line.split()[1],\"%H:%M:%S.%f\")\n",
    "                        attachedline=line\n",
    "                if path in dirs and (attached-send).total_seconds() in attach_delay:\n",
    "                    continue\n",
    "                else:\n",
    "                    processed_data.append(sendline)\n",
    "                    processed_data.append(attachedline)\n",
    "                    attach_delay.append((attached-send).total_seconds())\n",
    "                    dirs.append(path)\n",
    "                f.close()\n",
    "            if dirname!=filename.split(\"/\")[-3]:\n",
    "                i=1\n",
    "                dirname=filename.split(\"/\")[-3]\n",
    "            else:\n",
    "                i+=1\n",
    "            dirpath=\"data/\"+dirname\n",
    "            filename_after=\"data/\"+dirname+\"/\"+str(i)+\".txt\"\n",
    "            if not os.path.exists(dirpath):\n",
    "                os.makedirs(dirpath) \n",
    "            with open(filename_after,\"w\") as f:\n",
    "                for line in processed_data:\n",
    "                    f.write(line)\n",
    "                f.close()\n",
    "        except Exception as e:\n",
    "            print(e)\n",
    "\n",
    "            # print(filename)\n",
    "#remove outliers\n",
    "attach_delay=[i for i in attach_delay if i<50]"
   ]
  },
  {
   "cell_type": "code",
   "execution_count": 6,
   "metadata": {},
   "outputs": [
    {
     "name": "stdout",
     "output_type": "stream",
     "text": [
      "time data 'current' does not match format '%H:%M:%S.%f'\n",
      "time data 'current' does not match format '%H:%M:%S.%f'\n",
      "time data 'current' does not match format '%H:%M:%S.%f'\n",
      "time data 'current' does not match format '%H:%M:%S.%f'\n",
      "data/tiantong-sc310/1-14-2022/1.txt\n",
      "data/tiantong-sc310/1-14-2022/2.txt\n",
      "data/tiantong-sc310/1-14-2022/3.txt\n",
      "data/tiantong-sc310/1-14-2022/4.txt\n",
      "data/tiantong-sc310/1-14-2022/5.txt\n",
      "data/tiantong-sc310/1-14-2022/6.txt\n",
      "data/tiantong-sc310/1-14-2022/7.txt\n",
      "data/tiantong-sc310/1-14-2022/8.txt\n",
      "data/tiantong-sc310/1-14-2022/9.txt\n",
      "data/tiantong-sc310/1-14-2022/10.txt\n",
      "data/tiantong-sc310/1-14-2022/11.txt\n",
      "data/tiantong-sc310/1-14-2022/12.txt\n",
      "data/tiantong-sc310/1-14-2022/13.txt\n",
      "data/tiantong-sc310/1-14-2022/14.txt\n",
      "data/tiantong-sc310/1-14-2022/15.txt\n",
      "data/tiantong-sc310/1-14-2022/16.txt\n",
      "data/tiantong-sc310/1-14-2022/17.txt\n",
      "data/tiantong-sc310/1-14-2022/18.txt\n",
      "data/tiantong-sc310/1-14-2022/19.txt\n",
      "data/tiantong-sc310/1-14-2022/20.txt\n",
      "data/tiantong-sc310/1-14-2022/21.txt\n",
      "data/tiantong-sc310/1-14-2022/22.txt\n",
      "data/tiantong-sc310/1-14-2022/23.txt\n",
      "data/tiantong-sc310/1-14-2022/24.txt\n",
      "data/tiantong-sc310/1-14-2022/25.txt\n",
      "data/tiantong-sc310/1-14-2022/26.txt\n",
      "data/tiantong-sc310/1-14-2022/27.txt\n",
      "data/tiantong-sc310/1-8-2022/1.txt\n"
     ]
    }
   ],
   "source": [
    "attach_delay_sc310=[]\n",
    "#mian data folder\n",
    "sc_dir=\"../../Dataset/satellite-terminal-data/tiantong-sc310/\"\n",
    "g = os.walk(sc_dir)  \n",
    "dirs=[]\n",
    "dirname=\"\"\n",
    "i=1\n",
    "for path,dir_list,file_list in g:  \n",
    "    for file_name in file_list:  \n",
    "        filepath=os.path.join(path, file_name)\n",
    "        if \"data-plane\" not in filepath and \"txt\" in filepath:\n",
    "            processed_data=[]\n",
    "            try:\n",
    "                with open(filepath) as f:\n",
    "                    lines=f.readlines()\n",
    "                    send=0\n",
    "                    attached=0\n",
    "                    for line in lines:\n",
    "                        if \"GMM current state is S_GMM_REG_INIT\" in line and send==0:\n",
    "                            send=datetime.strptime(line.split(']')[0].split()[1],\"%H:%M:%S.%f\")\n",
    "                            # print(line)\n",
    "                            sendline=line\n",
    "                        if \"GMM current state is S_GMM_REG_S_NORMAL_SERV\" in line and attached==0:\n",
    "                            attached=datetime.strptime(line.split(']')[0].split()[1],\"%H:%M:%S.%f\")\n",
    "                            attachedline=line\n",
    "                            # print(line)\n",
    "                    if send!=0 and attached!=0 and (attached-send).total_seconds()<50:\n",
    "                        attach_delay_sc310.append((attached-send).total_seconds())\n",
    "                        processed_data.append(sendline)\n",
    "                        processed_data.append(attachedline)\n",
    "                        dirs.append(path)\n",
    "                    f.close()\n",
    "                if len(processed_data)!=0:\n",
    "                    if dirname!=filepath.split(\"/\")[-2]:\n",
    "                        i=1\n",
    "                        dirname=filepath.split(\"/\")[-2]\n",
    "                    else:\n",
    "                        i+=1\n",
    "                    dirpath=\"data/tiantong-sc310/\"+dirname\n",
    "                    filename_after=\"data/tiantong-sc310/\"+dirname+\"/\"+str(i)+\".txt\"\n",
    "                    print(filename_after)\n",
    "                    if not os.path.exists(dirpath):\n",
    "                        os.makedirs(dirpath) \n",
    "                    with open(filename_after,\"w\") as f:\n",
    "                        for line in processed_data:\n",
    "                            f.write(line)\n",
    "                        f.close()\n",
    "            except Exception as e:\n",
    "                print(e)\n",
    "# small data from other folder, for simplicity, we add it here as constant list\n",
    "#remove outliers\n",
    "attach_delay_sc310=[i for i in attach_delay_sc310 if i<50]"
   ]
  },
  {
   "cell_type": "code",
   "execution_count": 4,
   "metadata": {},
   "outputs": [
    {
     "name": "stdout",
     "output_type": "stream",
     "text": [
      "[ 8.211       8.59478571  8.97857143  9.36235714  9.74614286 10.12992857\n",
      " 10.51371429 10.8975     11.28128571 11.66507143 12.04885714 12.43264286\n",
      " 12.81642857 13.20021429 13.584     ]\n"
     ]
    },
    {
     "data": {
      "image/png": "[encoded data removed]",
      "text/plain": [
       "<Figure size 432x288 with 1 Axes>"
      ]
     },
     "metadata": {
      "needs_background": "light"
     },
     "output_type": "display_data"
    }
   ],
   "source": [
    "\n",
    "\n",
    "ecdf = sm.distributions.ECDF(attach_delay_sc310)\n",
    "x = np.linspace(min(attach_delay_sc310), max(attach_delay_sc310), len(attach_delay_sc310))\n",
    "y = ecdf(x)\n",
    "\n",
    "ecdf2 = sm.distributions.ECDF(attach_delay)\n",
    "x_2 = np.linspace(min(attach_delay), max(attach_delay), len(attach_delay))\n",
    "y_2 = ecdf2(x_2)\n",
    "\n",
    "font1 = {'family' : 'Arial',\n",
    "'weight' : 'normal',\n",
    "'size'   : 30,\n",
    "}\n",
    "\n",
    "\n",
    "font2 = {'family' : 'Arial',\n",
    "'weight' : 'normal',\n",
    "'size'   : 20,\n",
    "}\n",
    "x=np.concatenate([[10.7],x])\n",
    "y=np.concatenate([[0],y])\n",
    "print(x_2)\n",
    "x_2=np.concatenate([[8.1],x_2])\n",
    "y_2=np.concatenate([[0],y_2])\n",
    "plt.figure(figsize=(6, 4))\n",
    "plt.ylim(0, 1)\n",
    "plt.xlim(8, 16)\n",
    "plt.plot(x, y,color=\"#B0171F\",linewidth=\"5\", label=\"Tiantong SC310\")\n",
    "plt.plot(x_2, y_2,linestyle = 'dashed',color=\"black\",linewidth=\"5\",label=\"Inmarsat Explorer 710\")\n",
    "plt.xlabel(\"Time(s)\",font1)\n",
    "plt.ylabel(\"CDF\",font1)\n",
    "plt.legend(prop=font2,loc = 'lower right')\n",
    "\n",
    "plt.tick_params(labelsize=20)\n",
    "\n",
    "plt.tight_layout()\n",
    "plt.savefig('figure5b.pdf')\n",
    "plt.show()"
   ]
  },
  {
   "cell_type": "code",
   "execution_count": null,
   "metadata": {},
   "outputs": [],
   "source": []
  }
 ],
 "metadata": {
  "interpreter": {
   "hash": "38cca0c38332a56087b24af0bc80247f4fced29cb4f7f437d91dc159adec9c4e"
  },
  "kernelspec": {
   "display_name": "Python 3.8.8 64-bit ('base': conda)",
   "language": "python",
   "name": "python3"
  },
  "language_info": {
   "codemirror_mode": {
    "name": "ipython",
    "version": 3
   },
   "file_extension": ".py",
   "mimetype": "text/x-python",
   "name": "python",
   "nbconvert_exporter": "python",
   "pygments_lexer": "ipython3",
   "version": "3.8.8"
  },
  "orig_nbformat": 4
 },
 "nbformat": 4,
 "nbformat_minor": 2
}
