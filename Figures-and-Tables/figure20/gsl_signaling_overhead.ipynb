{
 "cells": [
  {
   "cell_type": "code",
   "execution_count": null,
   "id": "82718f49-6fdb-4364-a293-4f6695c410e0",
   "metadata": {},
   "outputs": [],
   "source": [
    "import numpy as np \n",
    "import math\n",
    "import pandas as pd\n",
    "import matplotlib.pyplot as plt\n",
    "import matplotlib\n",
    "import seaborn as sns\n",
    "import csv\n",
    "import math\n",
    "from matplotlib.patches import Rectangle"
   ]
  },
  {
   "cell_type": "code",
   "execution_count": null,
   "id": "48c9b6b9-e0fd-4fc3-bc6f-1e828d05e96c",
   "metadata": {},
   "outputs": [],
   "source": [
    "constellations=[\"starlink\",\"kuiper\",\"oneweb\",\"iridium\"]\n",
    "policy=\"P_OPT\""
   ]
  },
  {
   "cell_type": "code",
   "execution_count": null,
   "id": "7f6179dd-67fc-402a-885b-5443627c66fe",
   "metadata": {},
   "outputs": [],
   "source": [
    "# gs_type = \"single\"\n",
    "label = \"distributed\"\n",
    "single_upbound=[2000,10000,20000,30000]\n",
    "result={}\n",
    "name_s=['SpaceCore','NTN','SkyCore','DPCM','Tiansuan']"
   ]
  },
  {
   "cell_type": "code",
   "execution_count": 18,
   "id": "377367b3-c8b5-40e3-8142-9abb8c303e17",
   "metadata": {},
   "outputs": [
    {
     "name": "stdout",
     "output_type": "stream",
     "text": [
      "(10000,)\n"
     ]
    }
   ],
   "source": [
    "distributed_file=\"data/pairs.npy\"\n",
    "pair=np.array(np.load(distributed_file,allow_pickle=True))\n",
    "print(np.shape(pair))"
   ]
  },
  {
   "cell_type": "code",
   "execution_count": 19,
   "id": "749cccaf-d82f-41fe-aa4b-468aefe1ff5c",
   "metadata": {},
   "outputs": [
    {
     "name": "stderr",
     "output_type": "stream",
     "text": [
      "C:\\Users\\DELL\\AppData\\Roaming\\Python\\Python36\\site-packages\\numpy\\core\\_asarray.py:83: VisibleDeprecationWarning: Creating an ndarray from ragged nested sequences (which is a list-or-tuple of lists-or-tuples-or ndarrays with different lengths or shapes) is deprecated. If you meant to do this, you must specify 'dtype=object' when creating the ndarray\n",
      "  return array(a, dtype, copy=False, order=order)\n"
     ]
    },
    {
     "name": "stdout",
     "output_type": "stream",
     "text": [
      "(99,)\n",
      "(99,)\n",
      "(99,)\n",
      "(99,)\n"
     ]
    }
   ],
   "source": [
    "cycle=100\n",
    "def cal_handover():\n",
    "    r=[]\n",
    "    for t in range(1,cycle):\n",
    "        r_in=[]\n",
    "        for i in range(len(ue_access)):\n",
    "            if ue_access[i][t-1] != ue_access[i][t]:\n",
    "                r_in.append(i)\n",
    "        r.append(r_in)\n",
    "    return r\n",
    "handover_result={}\n",
    "for constellation in constellations:\n",
    "    path=\"data/\"\n",
    "    if constellation==\"starlink\":\n",
    "        path+=\"starlink_72_22/\"\n",
    "    elif constellation==\"kuiper\":\n",
    "        path+=\"kuiper/\"\n",
    "    elif constellation==\"oneweb\":\n",
    "        path+=\"OneWeb-1week/\"\n",
    "    elif constellation==\"iridium\":\n",
    "        path+=\"Iridium_1week/\"\n",
    "    ue_access_file=path+constellation+\"_ue_access_\"+policy+\".npy\"\n",
    "    ue_access=np.array(np.load(ue_access_file,allow_pickle=True))\n",
    "    ho=cal_handover()\n",
    "    print(np.shape(ho))\n",
    "    handover_result[constellation]=ho"
   ]
  },
  {
   "cell_type": "code",
   "execution_count": 25,
   "id": "ba6285f6-05df-4de4-8ae6-4261e0ec16e2",
   "metadata": {},
   "outputs": [
    {
     "name": "stdout",
     "output_type": "stream",
     "text": [
      "(4, 5, 99, 39)\n",
      "(4, 5, 99, 39)\n",
      "(4, 5, 99, 39)\n",
      "(4, 5, 99, 39)\n"
     ]
    }
   ],
   "source": [
    "#mobility\n",
    "pdu_gsl=[[0,0],[3,40],[0,0],[0,0],[0,0]]\n",
    "mobility_gsl=[[[0,0],[2,17],[0,0],[5,7],[5,7]],[[0,0],[1,0],[0,0],[1,1],[1,1]]]\n",
    "gsl_mobility_signaling={}\n",
    "for constellation in constellations:\n",
    "    path=\"data/\"\n",
    "    if constellation==\"starlink\":\n",
    "        path+=\"starlink_72_22/\"\n",
    "    elif constellation==\"kuiper\":\n",
    "        path+=\"kuiper/\"\n",
    "    elif constellation==\"oneweb\":\n",
    "        path+=\"OneWeb-1week/\"\n",
    "    elif constellation==\"iridium\":\n",
    "        path+=\"Iridium_1week/\"\n",
    "    ue_access_file=path+constellation+\"_ue_access_\"+policy+\".npy\"\n",
    "    ue_access=np.array(np.load(ue_access_file,allow_pickle=True))\n",
    "    bound_signaling=[]\n",
    "    for b_index in range(len(single_upbound)):    \n",
    "        ratio_file=\"data/processed_data/\"+constellation+\"_per_user_ratio\"+str(single_upbound[b_index])+\".npy\"\n",
    "        ratio=np.array(np.load(ratio_file,allow_pickle=True))\n",
    "        s_signaling=[]\n",
    "        for s_index in range(len(name_s)):\n",
    "            time_signaling=[]\n",
    "            for c in range(len(handover_result[constellation])):\n",
    "                gs_signaling=[0.0]*39\n",
    "                for user in handover_result[constellation][c]:\n",
    "                    cur_sat=ue_access[user][c]-1\n",
    "                    cur_gs=pair[user]\n",
    "                    r=ratio[c][cur_sat]\n",
    "                    gs_signaling[cur_gs]+=(r*(mobility_gsl[0][s_index][0]+mobility_gsl[1][s_index][0]))\n",
    "                time_signaling.append(gs_signaling)\n",
    "            s_signaling.append(time_signaling)\n",
    "        bound_signaling.append(s_signaling)\n",
    "    print(np.shape(bound_signaling))\n",
    "    gsl_mobility_signaling[constellation]=bound_signaling\n",
    "    "
   ]
  },
  {
   "cell_type": "code",
   "execution_count": 26,
   "id": "fe31aa0c-8f96-446c-8f86-19ac8b98312c",
   "metadata": {},
   "outputs": [
    {
     "name": "stdout",
     "output_type": "stream",
     "text": [
      "(4, 5, 99, 39)\n",
      "(4, 5, 99, 39)\n",
      "(4, 5, 99, 39)\n",
      "(4, 5, 99, 39)\n"
     ]
    }
   ],
   "source": [
    "#pdu\n",
    "pdu_gsl=[[0,0],[3,40],[0,0],[0,0],[0,0]]\n",
    "mobility_gsl=[[[0,0],[2,17],[0,0],[5,7],[5,7]],[[0,0],[1,0],[0,0],[1,1],[1,1]]]\n",
    "gsl_session_signaling={}\n",
    "for constellation in constellations:\n",
    "    path=\"data/\"\n",
    "    if constellation==\"starlink\":\n",
    "        path+=\"starlink_72_22/\"\n",
    "    elif constellation==\"kuiper\":\n",
    "        path+=\"kuiper/\"\n",
    "    elif constellation==\"oneweb\":\n",
    "        path+=\"OneWeb-1week/\"\n",
    "    elif constellation==\"iridium\":\n",
    "        path+=\"Iridium_1week/\"\n",
    "    ue_access_file=path+constellation+\"_ue_access_\"+policy+\".npy\"\n",
    "    ue_access=np.array(np.load(ue_access_file,allow_pickle=True))\n",
    "    bound_signaling=[]\n",
    "    for b_index in range(len(single_upbound)):    \n",
    "        ratio_file=\"data/processed_data/\"+constellation+\"_per_user_ratio\"+str(single_upbound[b_index])+\".npy\"\n",
    "        ratio=np.array(np.load(ratio_file,allow_pickle=True))\n",
    "        s_signaling=[]\n",
    "        for s_index in range(len(name_s)):\n",
    "            time_signaling=[]\n",
    "            for c in range(len(handover_result[constellation])):\n",
    "                gs_signaling=[0.0]*39\n",
    "                if c%2==0:\n",
    "                    for user in range(len(ue_access)):\n",
    "                        cur_sat=ue_access[user][c]-1\n",
    "                        cur_gs=pair[user]\n",
    "                        r=ratio[c+1][cur_sat]\n",
    "                        gs_signaling[cur_gs]+=(r*pdu_gsl[s_index][0])\n",
    "                time_signaling.append(gs_signaling)\n",
    "            s_signaling.append(time_signaling)\n",
    "        bound_signaling.append(s_signaling)\n",
    "    print(np.shape(bound_signaling))\n",
    "    gsl_session_signaling[constellation]=bound_signaling\n",
    "    "
   ]
  },
  {
   "cell_type": "code",
   "execution_count": 42,
   "id": "9d3807f4-24e9-4aff-816b-a31c4eca57cb",
   "metadata": {},
   "outputs": [],
   "source": [
    "np.save(\"data/gsl_session_signaling.npy\",gsl_session_signaling)\n",
    "np.save(\"data/gsl_mobility_signaling.npy\",gsl_mobility_signaling)"
   ]
  }
 ],
 "metadata": {
  "kernelspec": {
   "display_name": "Python 3",
   "language": "python",
   "name": "python3"
  },
  "language_info": {
   "codemirror_mode": {
    "name": "ipython",
    "version": 3
   },
   "file_extension": ".py",
   "mimetype": "text/x-python",
   "name": "python",
   "nbconvert_exporter": "python",
   "pygments_lexer": "ipython3",
   "version": "3.6.5"
  }
 },
 "nbformat": 4,
 "nbformat_minor": 5
}
