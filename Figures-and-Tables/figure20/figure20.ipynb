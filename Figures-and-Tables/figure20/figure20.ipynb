{
 "cells": [
  {
   "cell_type": "code",
   "execution_count": 1,
   "metadata": {},
   "outputs": [],
   "source": [
    "import numpy as np \n",
    "import math\n",
    "import pandas as pd\n",
    "import matplotlib.pyplot as plt\n",
    "import matplotlib\n",
    "import seaborn as sns\n",
    "import csv\n",
    "import math\n",
    "from matplotlib.patches import Rectangle"
   ]
  },
  {
   "cell_type": "code",
   "execution_count": 2,
   "metadata": {},
   "outputs": [],
   "source": [
    "constellations=[\"starlink\",\"kuiper\",\"oneweb\",\"iridium\"]\n",
    "policy=\"P_OPT\""
   ]
  },
  {
   "cell_type": "code",
   "execution_count": 3,
   "metadata": {},
   "outputs": [],
   "source": [
    "# gs_type = \"single\"\n",
    "label = \"distributed\"\n",
    "single_upbound=[2000,10000,20000,30000]\n",
    "result={}\n",
    "name_s=['SpaceCore','NTN','SkyCore','DPCM','Tiansuan']"
   ]
  },
  {
   "cell_type": "code",
   "execution_count": 4,
   "metadata": {},
   "outputs": [],
   "source": [
    "def zero_out_mean(data):\n",
    "    tmp=[]\n",
    "    for item in data:\n",
    "        if item !=0:\n",
    "            tmp.append(item)\n",
    "    if tmp:\n",
    "        return np.mean(tmp)  \n",
    "    else:\n",
    "        return 0\n",
    "def zero_out_min(data):\n",
    "    tmp=[]\n",
    "    for item in data:\n",
    "        if item!=0:\n",
    "            tmp.append(item)\n",
    "    if tmp:\n",
    "        return np.min(tmp)\n",
    "    else:\n",
    "        return float('inf')\n",
    "def zero_out_max(data):\n",
    "    tmp=[]\n",
    "    for item in data:\n",
    "        if item!=0:\n",
    "            tmp.append(item)\n",
    "    if tmp:\n",
    "        return np.max(tmp)\n",
    "    else:\n",
    "        return 0"
   ]
  },
  {
   "cell_type": "code",
   "execution_count": 5,
   "metadata": {},
   "outputs": [
    {
     "name": "stdout",
     "output_type": "stream",
     "text": [
      "starlink\n",
      "(5, 99, 1584, 2)\n",
      "(5, 99, 1584, 2)\n",
      "(5, 99, 1584, 2)\n",
      "(5, 99, 1584, 2)\n",
      "(5, 1584)\n",
      "kuiper\n",
      "(5, 99, 1156, 2)\n",
      "(5, 99, 1156, 2)\n",
      "(5, 99, 1156, 2)\n",
      "(5, 99, 1156, 2)\n",
      "(5, 1156)\n",
      "oneweb\n",
      "(5, 99, 720, 2)\n",
      "(5, 99, 720, 2)\n",
      "(5, 99, 720, 2)\n",
      "(5, 99, 720, 2)\n",
      "(5, 720)\n",
      "iridium\n",
      "(5, 99, 66, 2)\n",
      "(5, 99, 66, 2)\n",
      "(5, 99, 66, 2)\n",
      "(5, 99, 66, 2)\n",
      "(5, 66)\n"
     ]
    }
   ],
   "source": [
    "result_mobility_signaling={}\n",
    "result_session_signaling={}\n",
    "for constellation in constellations:\n",
    "    print(constellation)\n",
    "    path=\"data/\"\n",
    "    if constellation==\"starlink\":\n",
    "        path+=\"starlink_72_22/\"\n",
    "    elif constellation==\"kuiper\":\n",
    "        path+=\"kuiper/\"\n",
    "    elif constellation==\"oneweb\":\n",
    "        path+=\"OneWeb-1week/\"\n",
    "    elif constellation==\"iridium\":\n",
    "        path+=\"Iridium_1week/\"\n",
    "    result1={}\n",
    "    result2={}\n",
    "    for num in single_upbound:\n",
    "        tmp_mobility=[]\n",
    "        tmp_pdu_session=[]\n",
    "        for i in range(len(name_s)):\n",
    "            s_index=i\n",
    "            tmp_mobility.append(np.array(np.load(path+\"opt_handover/satellite/\"+label+\"_solution_\"+name_s[s_index]+\"_state_\"+str(num)+\"_mobility.npy\")))\n",
    "            tmp_pdu_session.append(np.array(np.load(path+\"opt_handover/satellite/\"+label+\"_solution_\"+name_s[s_index]+\"_state_\"+str(num)+\"_session.npy\")))\n",
    "        result1[num]=tmp_mobility\n",
    "        result2[num]=tmp_pdu_session\n",
    "    constellations_mobility_signaling={}\n",
    "    constellations_session_signaling={}\n",
    "    for num in single_upbound:\n",
    "        tmp1=result1[num]\n",
    "        tmp2=result2[num]\n",
    "        print(np.shape(tmp1))\n",
    "        scenario_mobility_signaling=[]\n",
    "        scenario_session_signaling=[]\n",
    "        for scenario in tmp1:\n",
    "            tmp_signaling=[]\n",
    "            for mins in scenario:\n",
    "                signaling_min=[x[0]for x in mins]\n",
    "                tmp_signaling.append(signaling_min)\n",
    "            per_sat_signaling=[[r[col]/60 for r in tmp_signaling] for col in range(len(tmp_signaling[0]))] \n",
    "            t_signaling=[np.mean(sat) for sat in per_sat_signaling]\n",
    "            scenario_mobility_signaling.append(t_signaling)\n",
    "        constellations_mobility_signaling[num]=scenario_mobility_signaling\n",
    "        for scenario in tmp2:\n",
    "            tmp_signaling=[]\n",
    "            for mins in scenario:\n",
    "                signaling_min=[x[0]for x in mins]\n",
    "                tmp_signaling.append(signaling_min)\n",
    "            per_sat_signaling=[[r[col]/60 for r in tmp_signaling] for col in range(len(tmp_signaling[0]))]\n",
    "            t_signaling=[zero_out_mean(sat) for sat in per_sat_signaling]\n",
    "            scenario_session_signaling.append(t_signaling)\n",
    "        constellations_session_signaling[num]=scenario_session_signaling\n",
    "    result_mobility_signaling[constellation]=constellations_mobility_signaling\n",
    "    result_session_signaling[constellation]=constellations_session_signaling\n",
    "    print(np.shape(constellations_session_signaling[10000]))"
   ]
  },
  {
   "cell_type": "code",
   "execution_count": 6,
   "metadata": {},
   "outputs": [
    {
     "name": "stdout",
     "output_type": "stream",
     "text": [
      "(5, 1584)\n",
      "(5, 1584)\n",
      "(5, 1584)\n",
      "(5, 1584)\n",
      "(5, 1156)\n",
      "(5, 1156)\n",
      "(5, 1156)\n",
      "(5, 1156)\n",
      "(5, 720)\n",
      "(5, 720)\n",
      "(5, 720)\n",
      "(5, 720)\n",
      "(5, 66)\n",
      "(5, 66)\n",
      "(5, 66)\n",
      "(5, 66)\n"
     ]
    }
   ],
   "source": [
    "sat_all={}\n",
    "for constellation in constellations:\n",
    "    tmp_sat={}\n",
    "    for num in single_upbound:\n",
    "        tt_sat=[]\n",
    "        for s in range(len(result_mobility_signaling[constellation][num])):\n",
    "            tt_sat.append([result_mobility_signaling[constellation][num][s][i] + result_session_signaling[constellation][num][s][i]for i in range(len(result_mobility_signaling[constellation][num][s]))])\n",
    "        print(np.shape(tt_sat))\n",
    "        tmp_sat[num]=tt_sat\n",
    "    sat_all[constellation]=tmp_sat"
   ]
  },
  {
   "cell_type": "code",
   "execution_count": 18,
   "metadata": {},
   "outputs": [
    {
     "name": "stdout",
     "output_type": "stream",
     "text": [
      "(10000,)\n"
     ]
    }
   ],
   "source": [
    "#UE与gs的配对关系\n",
    "distributed_file=\"data/pairs.npy\"\n",
    "pair=np.array(np.load(distributed_file,allow_pickle=True))\n",
    "print(np.shape(pair))"
   ]
  },
  {
   "cell_type": "code",
   "execution_count": 19,
   "metadata": {},
   "outputs": [
    {
     "name": "stderr",
     "output_type": "stream",
     "text": [
      "C:\\Users\\DELL\\AppData\\Roaming\\Python\\Python36\\site-packages\\numpy\\core\\_asarray.py:83: VisibleDeprecationWarning: Creating an ndarray from ragged nested sequences (which is a list-or-tuple of lists-or-tuples-or ndarrays with different lengths or shapes) is deprecated. If you meant to do this, you must specify 'dtype=object' when creating the ndarray\n",
      "  return array(a, dtype, copy=False, order=order)\n"
     ]
    },
    {
     "name": "stdout",
     "output_type": "stream",
     "text": [
      "(99,)\n",
      "(99,)\n",
      "(99,)\n",
      "(99,)\n"
     ]
    }
   ],
   "source": [
    "cycle=100\n",
    "def cal_handover():\n",
    "    r=[]\n",
    "    for t in range(1,cycle):\n",
    "        r_in=[]\n",
    "        for i in range(len(ue_access)):\n",
    "            if ue_access[i][t-1] != ue_access[i][t]:\n",
    "                r_in.append(i)\n",
    "        r.append(r_in)\n",
    "    return r\n",
    "handover_result={}\n",
    "for constellation in constellations:\n",
    "    path=\"data/\"\n",
    "    if constellation==\"starlink\":\n",
    "        path+=\"starlink_72_22/\"\n",
    "    elif constellation==\"kuiper\":\n",
    "        path+=\"kuiper/\"\n",
    "    elif constellation==\"oneweb\":\n",
    "        path+=\"OneWeb-1week/\"\n",
    "    elif constellation==\"iridium\":\n",
    "        path+=\"Iridium_1week/\"\n",
    "    ue_access_file=path+constellation+\"_ue_access_\"+policy+\".npy\"\n",
    "    ue_access=np.array(np.load(ue_access_file,allow_pickle=True))\n",
    "    ho=cal_handover()\n",
    "    print(np.shape(ho))\n",
    "    handover_result[constellation]=ho"
   ]
  },
  {
   "cell_type": "code",
   "execution_count": 25,
   "metadata": {},
   "outputs": [
    {
     "name": "stdout",
     "output_type": "stream",
     "text": [
      "(4, 5, 99, 39)\n",
      "(4, 5, 99, 39)\n",
      "(4, 5, 99, 39)\n",
      "(4, 5, 99, 39)\n"
     ]
    }
   ],
   "source": [
    "#mobility\n",
    "pdu_gsl=[[0,0],[3,40],[0,0],[0,0],[0,0]]\n",
    "mobility_gsl=[[[0,0],[2,17],[0,0],[5,7],[5,7]],[[0,0],[1,0],[0,0],[1,1],[1,1]]]\n",
    "gsl_mobility_signaling={}\n",
    "for constellation in constellations:\n",
    "    path=\"data/\"\n",
    "    if constellation==\"starlink\":\n",
    "        path+=\"starlink_72_22/\"\n",
    "    elif constellation==\"kuiper\":\n",
    "        path+=\"kuiper/\"\n",
    "    elif constellation==\"oneweb\":\n",
    "        path+=\"OneWeb-1week/\"\n",
    "    elif constellation==\"iridium\":\n",
    "        path+=\"Iridium_1week/\"\n",
    "    ue_access_file=path+constellation+\"_ue_access_\"+policy+\".npy\"\n",
    "    ue_access=np.array(np.load(ue_access_file,allow_pickle=True))\n",
    "    bound_signaling=[]\n",
    "    for b_index in range(len(single_upbound)):    \n",
    "        ratio_file=\"data/processed_data/\"+constellation+\"_per_user_ratio\"+str(single_upbound[b_index])+\".npy\"\n",
    "        ratio=np.array(np.load(ratio_file,allow_pickle=True))\n",
    "        s_signaling=[]\n",
    "        for s_index in range(len(name_s)):\n",
    "            time_signaling=[]\n",
    "            for c in range(len(handover_result[constellation])):\n",
    "                gs_signaling=[0.0]*39\n",
    "                for user in handover_result[constellation][c]:\n",
    "                    cur_sat=ue_access[user][c]-1\n",
    "                    cur_gs=pair[user]\n",
    "                    r=ratio[c][cur_sat]\n",
    "                    gs_signaling[cur_gs]+=(r*(mobility_gsl[0][s_index][0]+mobility_gsl[1][s_index][0]))\n",
    "                time_signaling.append(gs_signaling)\n",
    "            s_signaling.append(time_signaling)\n",
    "        bound_signaling.append(s_signaling)\n",
    "    print(np.shape(bound_signaling))\n",
    "    gsl_mobility_signaling[constellation]=bound_signaling\n",
    "    "
   ]
  },
  {
   "cell_type": "code",
   "execution_count": 26,
   "metadata": {},
   "outputs": [
    {
     "name": "stdout",
     "output_type": "stream",
     "text": [
      "(4, 5, 99, 39)\n",
      "(4, 5, 99, 39)\n",
      "(4, 5, 99, 39)\n",
      "(4, 5, 99, 39)\n"
     ]
    }
   ],
   "source": [
    "#pdu\n",
    "pdu_gsl=[[0,0],[3,40],[0,0],[0,0],[0,0]]\n",
    "mobility_gsl=[[[0,0],[2,17],[0,0],[5,7],[5,7]],[[0,0],[1,0],[0,0],[1,1],[1,1]]]\n",
    "gsl_session_signaling={}\n",
    "for constellation in constellations:\n",
    "    path=\"data/\"\n",
    "    if constellation==\"starlink\":\n",
    "        path+=\"starlink_72_22/\"\n",
    "    elif constellation==\"kuiper\":\n",
    "        path+=\"kuiper/\"\n",
    "    elif constellation==\"oneweb\":\n",
    "        path+=\"OneWeb-1week/\"\n",
    "    elif constellation==\"iridium\":\n",
    "        path+=\"Iridium_1week/\"\n",
    "    ue_access_file=path+constellation+\"_ue_access_\"+policy+\".npy\"\n",
    "    ue_access=np.array(np.load(ue_access_file,allow_pickle=True))\n",
    "    bound_signaling=[]\n",
    "    for b_index in range(len(single_upbound)):    \n",
    "        ratio_file=\"data/processed_data/\"+constellation+\"_per_user_ratio\"+str(single_upbound[b_index])+\".npy\"\n",
    "        ratio=np.array(np.load(ratio_file,allow_pickle=True))\n",
    "        s_signaling=[]\n",
    "        for s_index in range(len(name_s)):\n",
    "            time_signaling=[]\n",
    "            for c in range(len(handover_result[constellation])):\n",
    "                gs_signaling=[0.0]*39\n",
    "                if c%2==0:\n",
    "                    for user in range(len(ue_access)):\n",
    "                        cur_sat=ue_access[user][c]-1\n",
    "                        cur_gs=pair[user]\n",
    "                        r=ratio[c+1][cur_sat]\n",
    "                        gs_signaling[cur_gs]+=(r*pdu_gsl[s_index][0])\n",
    "                time_signaling.append(gs_signaling)\n",
    "            s_signaling.append(time_signaling)\n",
    "        bound_signaling.append(s_signaling)\n",
    "    print(np.shape(bound_signaling))\n",
    "    gsl_session_signaling[constellation]=bound_signaling\n",
    "    "
   ]
  },
  {
   "cell_type": "code",
   "execution_count": 42,
   "metadata": {},
   "outputs": [],
   "source": [
    "np.save(\"data/gsl_session_signaling.npy\",gsl_session_signaling)\n",
    "np.save(\"data/gsl_mobility_signaling.npy\",gsl_mobility_signaling)"
   ]
  },
  {
   "cell_type": "code",
   "execution_count": 7,
   "metadata": {},
   "outputs": [],
   "source": [
    "gsl_session_signaling=np.load(\"data/gsl_session_signaling.npy\",allow_pickle=True)\n",
    "gsl_mobility_signaling=np.load(\"data/gsl_mobility_signaling.npy\",allow_pickle=True)"
   ]
  },
  {
   "cell_type": "code",
   "execution_count": 10,
   "metadata": {},
   "outputs": [
    {
     "name": "stdout",
     "output_type": "stream",
     "text": [
      "starlink\n",
      "Satellite\n",
      "30000 [1.0, 122.17716694254533, 5.0, 40.31619087732208, 49.31619087732208]\n",
      "kuiper\n",
      "Satellite\n",
      "30000 [1.0, 87.69148129166433, 5.000000000000001, 33.8153674179066, 42.81536741790661]\n",
      "oneweb\n",
      "Satellite\n",
      "30000 [1.0, 49.813951337159615, 4.999999999999999, 16.83053574700705, 25.830535747007048]\n",
      "iridium\n",
      "Satellite\n",
      "30000 [1.0, 34.501289429509896, 4.999999999999999, 7.725462699036478, 16.725462699036477]\n"
     ]
    },
    {
     "data": {
      "image/png": "[encoded data removed]",
      "text/plain": [
       "<Figure size 1296x360 with 8 Axes>"
      ]
     },
     "metadata": {
      "needs_background": "light"
     },
     "output_type": "display_data"
    }
   ],
   "source": [
    "#画图\n",
    "#byte=num of signaling \n",
    "#num=num of states\n",
    "color=[\"#00A491\",\"#FAE4A5\",\"#FF592D\",\"#489DBC\"]\n",
    "edgecolor=[\"#00A491\",\"#F6C845\",\"#FF592D\",\"#278BB0\"]\n",
    "user_label=[\"2K\",\"10K\",\"20K\",\"30K\"]\n",
    "title=[\"Starlink\",\"Kuiper\",\"Oneweb\",\"Iridium\"]\n",
    "width=1.5\n",
    "offset=[-3*width/2,-width/2,width/2,3*width/2]\n",
    "location=[10,20,30,40,50]\n",
    "fig, _ = plt.subplots(2,5,sharex=True,figsize=(18,5))\n",
    "plt.subplots_adjust(left=None, bottom=None, right=None, top=None, wspace=0.2, hspace=0.2)\n",
    "for c in range(len(constellations)):\n",
    "    constellation=constellations[c]\n",
    "    print(constellation)\n",
    "    constellations_byte=result_session_signaling[constellation]\n",
    "    constellations_num=result_mobility_signaling[constellation]\n",
    "    \n",
    "    all_signal_mean={}\n",
    "    all_signal_y={}\n",
    "    for num in single_upbound:\n",
    "        all_signal_mean[num]=[zero_out_mean(ss) for ss in sat_all[constellation][num] ]\n",
    "        tmp_max=[zero_out_max(ss) for ss in sat_all[constellation][num] ]\n",
    "        tmp_min=[zero_out_min(ss) for ss in sat_all[constellation][num]]\n",
    "        all_signal_y[num]=[]\n",
    "        y1=[]\n",
    "        y2=[]\n",
    "        for s in range(len(tmp_max)):\n",
    "            y1.append(all_signal_mean[num][s]-tmp_min[s])\n",
    "            y2.append(tmp_max[s]-all_signal_mean[num][s])\n",
    "        all_signal_y[num].append(y1)\n",
    "        all_signal_y[num].append(y2)\n",
    "    bound_test=30000\n",
    "    print(\"Satellite\")\n",
    "    print(str(bound_test)+\" \"+str([item/all_signal_mean[bound_test][0] for item in all_signal_mean[bound_test]]))\n",
    "    plt.subplot(3,4,c+1)\n",
    "    plt.yscale(\"symlog\")\n",
    "    for i in range(len(single_upbound)):\n",
    "        plt.bar([n+offset[i] for n in location],all_signal_mean[single_upbound[i]],yerr=all_signal_y[single_upbound[i]],color=color[i],edgecolor=edgecolor[i],width=width,capsize=2)\n",
    "    plt.xticks(location,[\"\",\"\",\"\",\"\",\"\"])  \n",
    "    if constellation==\"starlink\":\n",
    "        plt.ylabel(\"# of signaling\\n(/s)\")\n",
    "    plt.ylim([0,8e5])\n",
    "    plt.yticks([1e1,1e3,1e5],['$ \\mathit{10}^{1}$','$ \\mathit{10}^{3}$','$ \\mathit{10}^{5}$'])\n",
    "    if c==3:\n",
    "        plt.legend([\"2K\",\"10K\",\"20K\",\"30K\"],title=\"SAT capacity\",loc=\"upper left\", bbox_to_anchor=(1, 1.1),ncol=1,labelspacing=0.2,borderpad=0.3)#prop={'size': 8}\n",
    "    if constellation==\"starlink\":\n",
    "        plt.ylabel(\"# of signaling\\n(/s)\")\n",
    "    if constellation==\"iridium\":\n",
    "        plt.text(58,0,\"Satellite\",fontsize=16)\n",
    "    \n",
    "    \n",
    "    signal_gs_mean={}\n",
    "    signal_gs_y={}\n",
    "    for b_index in range(len(single_upbound)):\n",
    "        num=single_upbound[b_index]\n",
    "        signal_gs_mean[num]=[]\n",
    "        all_max=[]\n",
    "        all_min=[]\n",
    "        for s_index in range(len(name_s)):\n",
    "            gs_all_tmp=[]\n",
    "            for gs_index in range(39):\n",
    "                gs_all_tmp.append([(gsl_session_signaling.item()[constellation][b_index][s_index][i][gs_index]+gsl_mobility_signaling.item()[constellation][b_index][s_index][i][gs_index])/60 for i in range(len(gsl_session_signaling.item()[constellation][b_index][s_index]))])\n",
    "            signal_gs_mean[num].append(zero_out_mean([zero_out_mean(gs) for gs in gs_all_tmp]))\n",
    "            all_max.append(zero_out_max([zero_out_max(gs) for gs in gs_all_tmp]))\n",
    "            all_min.append(zero_out_min([zero_out_min(gs) for gs in gs_all_tmp]))\n",
    "        signal_gs_y[num]=[]                          \n",
    "        y5=[]\n",
    "        y6=[]\n",
    "        for i in range(len(signal_gs_mean[num])):\n",
    "            y5.append(signal_gs_mean[num][i]-all_min[i])\n",
    "            y6.append(all_max[i]-signal_gs_mean[num][i])\n",
    "            \n",
    "        signal_gs_y[num].append(y5)\n",
    "        signal_gs_y[num].append(y6)\n",
    "    plt.subplot(3,4,c+5)\n",
    "#     print(\"GS\")\n",
    "#     print(\"gound stations:\"+str([item for item in signal_gs_mean[bound_test]]))\n",
    "    for i in range(len(single_upbound)):\n",
    "        plt.bar([n+offset[i] for n in location],signal_gs_mean[single_upbound[i]],yerr=signal_gs_y[single_upbound[i]],color=color[i],edgecolor=edgecolor[i],width=width,capsize=2)\n",
    "    plt.yscale(\"symlog\")\n",
    "    plt.text(7,5,\"None\",fontsize=10)\n",
    "    plt.text(27,5,\"None\",fontsize=10)\n",
    "    if constellation==\"starlink\":\n",
    "        plt.ylabel(\"# of signaling\\n(/s)\")\n",
    "    plt.ylim([0,8e5])\n",
    "    plt.yticks([1e1,1e3,1e5],['$ \\mathit{10}^{1}$','$ \\mathit{10}^{3}$','$ \\mathit{10}^{5}$'])\n",
    "    plt.xticks(location,[\"\",\"\",\"\",\"\",\"\"])\n",
    "    if constellation==\"iridium\":\n",
    "        plt.text(58,0,\"Ground\\n station\",fontsize=16)\n",
    "        \n",
    "    plt.title(title[c],y=-0.5,fontsize=16)\n",
    "    plt.xticks(location,[\"SpaceCore\",\" 5G NTN\",\" SkyCore\",\"DPCM\",\"Baoyun\"],fontsize=9.5)\n",
    "\n",
    "plt.savefig(\"figure20.pdf\",bbox_inches='tight')  "
   ]
  },
  {
   "cell_type": "code",
   "execution_count": null,
   "metadata": {},
   "outputs": [],
   "source": []
  }
 ],
 "metadata": {
  "kernelspec": {
   "display_name": "Python 3",
   "language": "python",
   "name": "python3"
  },
  "language_info": {
   "codemirror_mode": {
    "name": "ipython",
    "version": 3
   },
   "file_extension": ".py",
   "mimetype": "text/x-python",
   "name": "python",
   "nbconvert_exporter": "python",
   "pygments_lexer": "ipython3",
   "version": "3.6.5"
  }
 },
 "nbformat": 4,
 "nbformat_minor": 4
}
